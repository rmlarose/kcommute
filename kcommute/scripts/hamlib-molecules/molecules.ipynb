{
 "cells": [
  {
   "cell_type": "markdown",
   "id": "9a1b87e9",
   "metadata": {},
   "source": [
    "# Compute $\\hat{R}$ for $k$-commutativity with various molecules"
   ]
  },
  {
   "cell_type": "markdown",
   "id": "e8316ac2",
   "metadata": {},
   "source": [
    "## Setup"
   ]
  },
  {
   "cell_type": "code",
   "execution_count": null,
   "id": "e6681558",
   "metadata": {},
   "outputs": [
    {
     "ename": "ImportError",
     "evalue": "cannot import name 'k_qwc' from 'kcommute' (/Users/benjamindalfavero/Documents/phd/wellcome/kcommute/kcommute/__init__.py)",
     "output_type": "error",
     "traceback": [
      "\u001b[31m---------------------------------------------------------------------------\u001b[39m",
      "\u001b[31mImportError\u001b[39m                               Traceback (most recent call last)",
      "\u001b[36mCell\u001b[39m\u001b[36m \u001b[39m\u001b[32mIn[1]\u001b[39m\u001b[32m, line 9\u001b[39m\n\u001b[32m      6\u001b[39m \u001b[38;5;28;01mimport\u001b[39;00m\u001b[38;5;250m \u001b[39m\u001b[34;01mcirq\u001b[39;00m\n\u001b[32m      7\u001b[39m \u001b[38;5;28;01mimport\u001b[39;00m\u001b[38;5;250m \u001b[39m\u001b[34;01mopenfermion\u001b[39;00m\n\u001b[32m----> \u001b[39m\u001b[32m9\u001b[39m \u001b[38;5;28;01mfrom\u001b[39;00m\u001b[38;5;250m \u001b[39m\u001b[34;01mkcommute\u001b[39;00m\u001b[38;5;250m \u001b[39m\u001b[38;5;28;01mimport\u001b[39;00m get_si_sets, r_hat_measurement_count, k_qwc\n\u001b[32m     10\u001b[39m \u001b[38;5;28;01mfrom\u001b[39;00m\u001b[38;5;250m \u001b[39m\u001b[34;01mkcommute\u001b[39;00m\u001b[34;01m.\u001b[39;00m\u001b[34;01mhamlib_interface\u001b[39;00m\u001b[38;5;250m \u001b[39m\u001b[38;5;28;01mimport\u001b[39;00m read_openfermion_hdf5\n",
      "\u001b[31mImportError\u001b[39m: cannot import name 'k_qwc' from 'kcommute' (/Users/benjamindalfavero/Documents/phd/wellcome/kcommute/kcommute/__init__.py)"
     ]
    }
   ],
   "source": [
    "import os\n",
    "\n",
    "import matplotlib.pyplot as plt; plt.rcParams.update({\"font.family\": \"serif\", \"font.size\": 12})\n",
    "import numpy as np\n",
    "\n",
    "import cirq\n",
    "import openfermion\n",
    "\n",
    "from kcommute import get_si_sets, r_hat_measurement_count\n",
    "from kcommute.commute import compute_blocks\n",
    "from kcommute.hamlib_interface import read_openfermion_hdf5"
   ]
  },
  {
   "cell_type": "markdown",
   "id": "a0792c7e",
   "metadata": {},
   "source": [
    "### Set parameters"
   ]
  },
  {
   "cell_type": "code",
   "execution_count": null,
   "id": "0e25e831",
   "metadata": {},
   "outputs": [],
   "source": [
    "data_directory: str = \"../data/input/hamlib-molecules/\"\n",
    "extension: str = \".hdf5\"\n",
    "fnames_encodings = {\n",
    "    \"O2\": \"/ham_JW16\",\n",
    "    \"B2\": \"/ham_JW-10\",\n",
    "    \"BeH\": \"/ham_JW10\",\n",
    "    \"BH\": \"/ham_JW-10\",\n",
    "    \"CH\": \"/ham_JW-10\",\n",
    "    \"HF\": \"/ham_JW10\",\n",
    "    \"C2\": \"/ham_JW-10\",\n",
    "    \"OH\": \"/ham_JW10\",\n",
    "    \"N2\": \"/ham_JW-14\",\n",
    "    \"Li2\": \"/ham_JW10\",\n",
    "    \"NaLi\": \"/ham_JW-14\",\n",
    "}"
   ]
  },
  {
   "cell_type": "code",
   "execution_count": null,
   "id": "ad0e92dc",
   "metadata": {},
   "outputs": [],
   "source": [
    "fnames = list(fnames_encodings.keys())\n",
    "fermion_to_qubit_mapping_key: int = 0"
   ]
  },
  {
   "cell_type": "markdown",
   "id": "66e34b5e",
   "metadata": {},
   "source": [
    "## Run script"
   ]
  },
  {
   "cell_type": "code",
   "execution_count": null,
   "id": "b4713a56",
   "metadata": {},
   "outputs": [
    {
     "name": "stdout",
     "output_type": "stream",
     "text": [
      "On molecule O2\n",
      "Status: k = 1\n",
      "# groups = 471\n",
      "rhat = 14.139492491861064\n",
      "Status: k = 4\n",
      "# groups = 220\n",
      "rhat = 19.619874936040734\n",
      "Status: k = 8\n",
      "# groups = 135\n",
      "rhat = 26.99135220092941\n",
      "Status: k = 12\n",
      "# groups = 121\n",
      "rhat = 27.386910469759943\n",
      "Status: k = 16\n",
      "# groups = 30\n",
      "rhat = 41.86811115542467\n",
      "On molecule B2\n",
      "Status: k = 1\n",
      "# groups = 33\n",
      "rhat = 21.179719451052986\n",
      "Status: k = 2\n",
      "# groups = 17\n",
      "rhat = 22.199393545823394\n",
      "Status: k = 5\n",
      "# groups = 21\n",
      "rhat = 22.154454627784062\n",
      "Status: k = 7\n",
      "# groups = 19\n",
      "rhat = 24.268596076372205\n",
      "Status: k = 10\n",
      "# groups = 11\n",
      "rhat = 26.972770306144643\n",
      "On molecule BeH\n",
      "Status: k = 1\n",
      "# groups = 79\n",
      "rhat = 18.5464837027758\n",
      "Status: k = 2\n",
      "# groups = 36\n",
      "rhat = 23.8324431788903\n",
      "Status: k = 5\n",
      "# groups = 41\n",
      "rhat = 22.962556338749966\n",
      "Status: k = 7\n",
      "# groups = 38\n",
      "rhat = 23.372423928492687\n",
      "Status: k = 10\n",
      "# groups = 21\n",
      "rhat = 29.127360612890037\n",
      "On molecule BH\n",
      "Status: k = 1\n",
      "# groups = 79\n",
      "rhat = 19.21825263553525\n",
      "Status: k = 2\n",
      "# groups = 40\n",
      "rhat = 25.30942294527872\n",
      "Status: k = 5\n",
      "# groups = 42\n",
      "rhat = 23.736423632169885\n",
      "Status: k = 7\n",
      "# groups = 43\n",
      "rhat = 23.742022719259698\n",
      "Status: k = 10\n",
      "# groups = 21\n",
      "rhat = 31.607282322942613\n",
      "On molecule CH\n",
      "Status: k = 1\n",
      "# groups = 79\n",
      "rhat = 20.19957072706368\n",
      "Status: k = 2\n",
      "# groups = 39\n",
      "rhat = 24.145467501968675\n",
      "Status: k = 5\n",
      "# groups = 39\n",
      "rhat = 23.731506736837325\n",
      "Status: k = 7\n",
      "# groups = 39\n",
      "rhat = 23.55061758498418\n",
      "Status: k = 10\n",
      "# groups = 21\n",
      "rhat = 30.161001150675805\n",
      "On molecule HF\n",
      "Status: k = 1\n",
      "# groups = 75\n",
      "rhat = 13.177771985930915\n",
      "Status: k = 2\n",
      "# groups = 41\n",
      "rhat = 13.726235533372193\n",
      "Status: k = 5\n",
      "# groups = 35\n",
      "rhat = 14.113753084603601\n",
      "Status: k = 7\n",
      "# groups = 36\n",
      "rhat = 14.238415963049166\n",
      "Status: k = 10\n",
      "# groups = 19\n",
      "rhat = 17.127171276467408\n",
      "On molecule C2\n",
      "Status: k = 1\n",
      "# groups = 37\n",
      "rhat = 16.065827873544215\n",
      "Status: k = 2\n",
      "# groups = 18\n",
      "rhat = 16.669819725711765\n",
      "Status: k = 5\n",
      "# groups = 17\n",
      "rhat = 16.970388003671726\n",
      "Status: k = 7\n",
      "# groups = 23\n",
      "rhat = 16.549328383630776\n",
      "Status: k = 10\n",
      "# groups = 11\n",
      "rhat = 19.64127952204451\n",
      "On molecule OH\n",
      "Status: k = 1\n",
      "# groups = 78\n",
      "rhat = 14.649233394264778\n",
      "Status: k = 2\n",
      "# groups = 38\n",
      "rhat = 16.03767218389233\n",
      "Status: k = 5\n",
      "# groups = 37\n",
      "rhat = 15.966116920384547\n",
      "Status: k = 7\n",
      "# groups = 35\n",
      "rhat = 16.40052239169164\n",
      "Status: k = 10\n",
      "# groups = 20\n",
      "rhat = 20.092426717220775\n",
      "On molecule N2\n",
      "Status: k = 1\n",
      "# groups = 234\n",
      "rhat = 16.495585133968856\n",
      "Status: k = 3\n",
      "# groups = 173\n",
      "rhat = 20.022181147272686\n",
      "Status: k = 7\n",
      "# groups = 64\n",
      "rhat = 29.755202168588237\n",
      "Status: k = 10\n",
      "# groups = 93\n",
      "rhat = 24.677934354635113\n",
      "Status: k = 14\n",
      "# groups = 28\n",
      "rhat = 34.14026241281305\n",
      "On molecule Li2\n",
      "Status: k = 1\n",
      "# groups = 37\n",
      "rhat = 21.122459260298246\n",
      "Status: k = 2\n",
      "# groups = 15\n",
      "rhat = 23.69374465317244\n",
      "Status: k = 5\n",
      "# groups = 21\n",
      "rhat = 22.821796723769356\n",
      "Status: k = 7\n",
      "# groups = 22\n",
      "rhat = 22.798039839446748\n",
      "Status: k = 10\n",
      "# groups = 11\n",
      "rhat = 26.40008943800987\n",
      "On molecule NaLi\n",
      "Status: k = 1\n",
      "# groups = 379\n",
      "rhat = 16.70874499550877\n",
      "Status: k = 3\n",
      "# groups = 228\n",
      "rhat = 17.07490111952432\n",
      "Status: k = 7\n",
      "# groups = 149\n",
      "rhat = 17.27828504056465\n",
      "Status: k = 10\n",
      "# groups = 138\n",
      "rhat = 17.766075481403202\n",
      "Status: k = 14\n",
      "# groups = 61\n",
      "rhat = 19.73131862989255\n"
     ]
    }
   ],
   "source": [
    "all_groups = {}\n",
    "all_rhats = {}\n",
    "\n",
    "for fname, encoding in fnames_encodings.items():\n",
    "    print(\"On molecule\", fname)\n",
    "    hamiltonian = read_openfermion_hdf5(\n",
    "        os.path.join(data_directory, fname + extension),\n",
    "        encoding,\n",
    "    )\n",
    "\n",
    "    nq = openfermion.utils.count_qubits(hamiltonian)\n",
    "    qubits = cirq.LineQubit.range(nq)\n",
    "\n",
    "    k_values = [1, nq // 4, nq // 2, 3 * nq // 4, nq]\n",
    "    groups = []\n",
    "    rhats = []\n",
    "\n",
    "    for k in k_values:\n",
    "        print(\"Status: k =\", k)\n",
    "        groups.append(get_si_sets(hamiltonian, compute_blocks(qubits, k)))\n",
    "        rhats.append(r_hat_measurement_count(groups[-1]))\n",
    "\n",
    "        print(\"# groups =\", len(groups[-1]))\n",
    "        print(\"rhat =\", rhats[-1])\n",
    "    \n",
    "    all_groups[fname] = groups\n",
    "    all_rhats[fname] = rhats"
   ]
  },
  {
   "cell_type": "markdown",
   "id": "8d210455",
   "metadata": {},
   "source": [
    "## Plot results"
   ]
  },
  {
   "cell_type": "code",
   "execution_count": null,
   "id": "9f7d9e23",
   "metadata": {},
   "outputs": [
    {
     "data": {
      "text/plain": [
       "{'O2': [471, 220, 135, 121, 30],\n",
       " 'B2': [33, 17, 21, 19, 11],\n",
       " 'BeH': [79, 36, 41, 38, 21],\n",
       " 'BH': [79, 40, 42, 43, 21],\n",
       " 'CH': [79, 39, 39, 39, 21],\n",
       " 'HF': [75, 41, 35, 36, 19],\n",
       " 'C2': [37, 18, 17, 23, 11],\n",
       " 'OH': [78, 38, 37, 35, 20],\n",
       " 'N2': [234, 173, 64, 93, 28],\n",
       " 'Li2': [37, 15, 21, 22, 11],\n",
       " 'NaLi': [379, 228, 149, 138, 61]}"
      ]
     },
     "execution_count": 5,
     "metadata": {},
     "output_type": "execute_result"
    }
   ],
   "source": [
    "all_ngroups = {fname: [len(group) for group in groups] for fname, groups in all_groups.items()}\n",
    "all_ngroups"
   ]
  },
  {
   "cell_type": "code",
   "execution_count": null,
   "id": "249a30b3",
   "metadata": {},
   "outputs": [
    {
     "data": {
      "text/plain": [
       "array([[471, 220, 135, 121,  30],\n",
       "       [ 33,  17,  21,  19,  11],\n",
       "       [ 79,  36,  41,  38,  21],\n",
       "       [ 79,  40,  42,  43,  21],\n",
       "       [ 79,  39,  39,  39,  21],\n",
       "       [ 75,  41,  35,  36,  19],\n",
       "       [ 37,  18,  17,  23,  11],\n",
       "       [ 78,  38,  37,  35,  20],\n",
       "       [234, 173,  64,  93,  28],\n",
       "       [ 37,  15,  21,  22,  11],\n",
       "       [379, 228, 149, 138,  61]])"
      ]
     },
     "execution_count": 6,
     "metadata": {},
     "output_type": "execute_result"
    }
   ],
   "source": [
    "ngroups_to_plot = np.array(list(all_ngroups.values()))\n",
    "ngroups_to_plot"
   ]
  },
  {
   "cell_type": "code",
   "execution_count": null,
   "id": "cad0bf78",
   "metadata": {},
   "outputs": [
    {
     "data": {
      "image/png": "[encoded data removed]",
      "text/plain": [
       "<Figure size 640x480 with 1 Axes>"
      ]
     },
     "metadata": {},
     "output_type": "display_data"
    }
   ],
   "source": [
    "xs = np.arange(len(fnames))\n",
    "width = 2.0 / len(xs)\n",
    "\n",
    "for i, ngroups in enumerate(ngroups_to_plot.T):\n",
    "    plt.bar(xs + (i - len(ngroups_to_plot.T) // 2) * width, ngroups, width=width, align=\"center\")\n",
    "\n",
    "plt.xticks(xs, labels=fnames)\n",
    "plt.ylabel(\"Number of groups\")\n",
    "plt.legend([\"$1$-commute\", r\"$\\frac{n}{4}$-commute\", r\"$\\frac{2n}{4}$-commute\", r\"$\\frac{3n}{4}$-commute\", \"$n$-commute\"])\n",
    "plt.tight_layout();"
   ]
  },
  {
   "cell_type": "code",
   "execution_count": null,
   "id": "65d4743b",
   "metadata": {},
   "outputs": [
    {
     "data": {
      "text/plain": [
       "array([[14.13949249, 19.61987494, 26.9913522 , 27.38691047, 41.86811116],\n",
       "       [21.17971945, 22.19939355, 22.15445463, 24.26859608, 26.97277031],\n",
       "       [18.5464837 , 23.83244318, 22.96255634, 23.37242393, 29.12736061],\n",
       "       [19.21825264, 25.30942295, 23.73642363, 23.74202272, 31.60728232],\n",
       "       [20.19957073, 24.1454675 , 23.73150674, 23.55061758, 30.16100115],\n",
       "       [13.17777199, 13.72623553, 14.11375308, 14.23841596, 17.12717128],\n",
       "       [16.06582787, 16.66981973, 16.970388  , 16.54932838, 19.64127952],\n",
       "       [14.64923339, 16.03767218, 15.96611692, 16.40052239, 20.09242672],\n",
       "       [16.49558513, 20.02218115, 29.75520217, 24.67793435, 34.14026241],\n",
       "       [21.12245926, 23.69374465, 22.82179672, 22.79803984, 26.40008944],\n",
       "       [16.708745  , 17.07490112, 17.27828504, 17.76607548, 19.73131863]])"
      ]
     },
     "execution_count": 8,
     "metadata": {},
     "output_type": "execute_result"
    }
   ],
   "source": [
    "rhats_to_plot = np.array(list(all_rhats.values()))\n",
    "rhats_to_plot"
   ]
  },
  {
   "cell_type": "code",
   "execution_count": null,
   "id": "69623942",
   "metadata": {},
   "outputs": [
    {
     "data": {
      "image/png": "[encoded data removed]",
      "text/plain": [
       "<Figure size 640x480 with 1 Axes>"
      ]
     },
     "metadata": {},
     "output_type": "display_data"
    }
   ],
   "source": [
    "xs = np.arange(len(fnames))\n",
    "width = 2.0 / len(xs)\n",
    "\n",
    "for i, rhats in enumerate(rhats_to_plot.T):\n",
    "    plt.bar(xs + (i - len(rhats_to_plot.T) // 2) * width, rhats, width=width, align=\"center\")\n",
    "\n",
    "plt.xticks(xs, labels=fnames)\n",
    "plt.ylabel(r\"$\\hat{R}$\")\n",
    "plt.legend([\"$1$-commute\", r\"$\\frac{n}{4}$-commute\", r\"$\\frac{2n}{4}$-commute\", r\"$\\frac{3n}{4}$-commute\", \"$n$-commute\"])\n",
    "plt.tight_layout();"
   ]
  },
  {
   "cell_type": "markdown",
   "id": "1db480cf",
   "metadata": {},
   "source": []
  }
 ],
 "metadata": {
  "kernelspec": {
   "display_name": "kqwc2",
   "language": "python",
   "name": "python3"
  },
  "language_info": {
   "codemirror_mode": {
    "name": "ipython",
    "version": 3
   },
   "file_extension": ".py",
   "mimetype": "text/x-python",
   "name": "python",
   "nbconvert_exporter": "python",
   "pygments_lexer": "ipython3",
   "version": "3.12.8"
  }
 },
 "nbformat": 4,
 "nbformat_minor": 5
}
