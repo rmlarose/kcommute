{
 "cells": [
  {
   "cell_type": "code",
   "execution_count": 56,
   "metadata": {},
   "outputs": [],
   "source": [
    "import numpy as np\n",
    "import pandas as pd\n",
    "\n",
    "import cirq\n",
    "import openfermion as of\n",
    "from openfermion.utils import count_qubits\n",
    "\n",
    "from shotcounts.sortedinsertion import get_si_sets\n",
    "from shotcounts.shot_metrics import r_hat_measurement_count\n",
    "from shotcounts import k_qwc\n",
    "\n",
    "import matplotlib.pyplot as plt"
   ]
  },
  {
   "cell_type": "code",
   "execution_count": 57,
   "metadata": {},
   "outputs": [],
   "source": [
    "# Build hardcore boson Hamiltonian.\n",
    "L = 3 \n",
    "t = 1.0\n",
    "jj = 5.0\n",
    "two_dimensional = True\n",
    "\n",
    "if two_dimensional:\n",
    "    creation_operators = []\n",
    "    annihilation_operators = []\n",
    "    for i in range(L):\n",
    "        creation_operators.append([])\n",
    "        annihilation_operators.append([])\n",
    "        for j in range(L):\n",
    "            x = of.QubitOperator(f\"X{i * L + j}\")\n",
    "            y = of.QubitOperator(f\"Y{i * L + j}\")\n",
    "            creation_operators[i].append(0.5 * (x - complex(0.0, 1.0) * y))\n",
    "            annihilation_operators[i].append(0.5 * (x + complex(0.0, 1.0) * y))\n",
    "\n",
    "    ham = of.QubitOperator()\n",
    "    for i in range(L):\n",
    "        for j in range(L):\n",
    "            if i != 0:\n",
    "                ham += t * creation_operators[i-1][j] * annihilation_operators[i][j]\n",
    "                ham += t * creation_operators[i][j] * annihilation_operators[i-1][j]\n",
    "            if i != L - 1:\n",
    "                ham += t * creation_operators[i+1][j] * annihilation_operators[i][j]\n",
    "                ham += t * creation_operators[i][j] * annihilation_operators[i+1][j]\n",
    "            if j != L - 1:\n",
    "                ham += t * creation_operators[i][j+1] * annihilation_operators[i][j]\n",
    "                ham += t * creation_operators[i][j] * annihilation_operators[i][j+1]\n",
    "            if j != 0:\n",
    "                ham += t * creation_operators[i][j-1] * annihilation_operators[i][j]\n",
    "                ham += t * creation_operators[i][j] * annihilation_operators[i][j-1]\n",
    "        ham += jj * creation_operators[i][j] * annihilation_operators[i][j] * creation_operators[i][j] * annihilation_operators[i][j]\n",
    "else:\n",
    "    creation_operators = []\n",
    "    annihilation_operators = []\n",
    "    for i in range(L):\n",
    "        x = of.QubitOperator(f\"X{i}\")\n",
    "        y = of.QubitOperator(f\"Y{i}\")\n",
    "        creation_operators.append(0.5 * (x - complex(0.0, 1.0) * y))\n",
    "        annihilation_operators.append(0.5 * (x + complex(0.0, 1.0) * y))\n",
    "\n",
    "    ham = of.QubitOperator()\n",
    "    for i in range(L):\n",
    "        if i != L - 1:\n",
    "            ham += t * creation_operators[i+1] * annihilation_operators[i]\n",
    "            ham += t * creation_operators[i] * annihilation_operators[i+1]\n",
    "        ham += jj * creation_operators[i] * annihilation_operators[i] * creation_operators[i] * annihilation_operators[i]\n"
   ]
  },
  {
   "cell_type": "code",
   "execution_count": 58,
   "metadata": {},
   "outputs": [],
   "source": [
    "def groups_rhat_vs_k(qs, hamiltonian, verbose=False):\n",
    "    nq = len(qs)\n",
    "    kvals = list(range(1, nq + 1))\n",
    "    rhats: List[float] = []\n",
    "    ngroups: List[int] = []\n",
    "\n",
    "    for k in kvals:\n",
    "        blocks = k_qwc.compute_blocks(qs, k)\n",
    "        groups = get_si_sets(hamiltonian, blocks=blocks)\n",
    "        ngroups.append(len(groups))\n",
    "        rhats.append(r_hat_measurement_count(groups))\n",
    "        if verbose:\n",
    "            print(\"On k =\", k)\n",
    "            print(\"Blocks are:\")\n",
    "            print(blocks)\n",
    "            print(f\"Finished grouping, there are {len(groups)} groups.\")\n",
    "            print(\"Groups are:\")\n",
    "            print(groups)\n",
    "            print(f\"There are {len(groups)} groups.\")\n",
    "            print(\"rhat =\", rhats[-1])\n",
    "    return kvals, ngroups, rhats"
   ]
  },
  {
   "cell_type": "code",
   "execution_count": 59,
   "metadata": {},
   "outputs": [
    {
     "name": "stdout",
     "output_type": "stream",
     "text": [
      "On k = 1\n",
      "Blocks are:\n",
      "[[cirq.LineQubit(0)], [cirq.LineQubit(1)], [cirq.LineQubit(2)]]\n",
      "Finished grouping, there are 3 groups.\n",
      "Groups are:\n",
      "[[(-2.5+0j) [Z2], (-2.5+0j) [Z5], (-2.5+0j) [Z8], 1.0 [X0 X3], 1.0 [X0 X1], 1.0 [X1 X4], 1.0 [X3 X6], (1+0j) [Y3 Y6], 1.0 [X3 X4], (1+0j) [Y3 Y4], 1.0 [X4 X7], (1+0j) [Y4 Y7], 1.0 [X4 X5], (1+0j) [Y4 Y5], 1.0 [X5 X8], (1+0j) [Y5 Y8], 1.0 [X6 X7], (1+0j) [Y6 Y7], 1.0 [X7 X8], (1+0j) [Y7 Y8]], [(1+0j) [Y0 Y3], (1+0j) [Y0 Y1], (1+0j) [Y1 Y4], (1+0j) [Y1 Y2], (1+0j) [Y2 Y5]], [1.0 [X1 X2], 1.0 [X2 X5]]]\n",
      "There are 3 groups.\n",
      "rhat = 10.700931358695641\n",
      "On k = 2\n",
      "Blocks are:\n",
      "[[cirq.LineQubit(0), cirq.LineQubit(1)], [cirq.LineQubit(2)]]\n",
      "Finished grouping, there are 3 groups.\n",
      "Groups are:\n",
      "[[(-2.5+0j) [Z2], (-2.5+0j) [Z5], (-2.5+0j) [Z8], 1.0 [X0 X3], 1.0 [X0 X1], 1.0 [X1 X4], 1.0 [X3 X6], (1+0j) [Y3 Y6], 1.0 [X3 X4], (1+0j) [Y3 Y4], 1.0 [X4 X7], (1+0j) [Y4 Y7], 1.0 [X4 X5], (1+0j) [Y4 Y5], 1.0 [X5 X8], (1+0j) [Y5 Y8], 1.0 [X6 X7], (1+0j) [Y6 Y7], 1.0 [X7 X8], (1+0j) [Y7 Y8]], [(1+0j) [Y0 Y3], (1+0j) [Y0 Y1], (1+0j) [Y1 Y4], (1+0j) [Y1 Y2], (1+0j) [Y2 Y5]], [1.0 [X1 X2], 1.0 [X2 X5]]]\n",
      "There are 3 groups.\n",
      "rhat = 10.700931358695641\n",
      "On k = 3\n",
      "Blocks are:\n",
      "[[cirq.LineQubit(0), cirq.LineQubit(1), cirq.LineQubit(2)]]\n",
      "Finished grouping, there are 3 groups.\n",
      "Groups are:\n",
      "[[(-2.5+0j) [Z2], (-2.5+0j) [Z5], (-2.5+0j) [Z8], 1.0 [X0 X3], 1.0 [X0 X1], 1.0 [X1 X4], 1.0 [X3 X6], (1+0j) [Y3 Y6], 1.0 [X3 X4], (1+0j) [Y3 Y4], 1.0 [X4 X7], (1+0j) [Y4 Y7], 1.0 [X4 X5], (1+0j) [Y4 Y5], 1.0 [X5 X8], (1+0j) [Y5 Y8], 1.0 [X6 X7], (1+0j) [Y6 Y7], 1.0 [X7 X8], (1+0j) [Y7 Y8]], [(1+0j) [Y0 Y3], (1+0j) [Y0 Y1], (1+0j) [Y1 Y4], (1+0j) [Y1 Y2], (1+0j) [Y2 Y5]], [1.0 [X1 X2], 1.0 [X2 X5]]]\n",
      "There are 3 groups.\n",
      "rhat = 10.700931358695641\n"
     ]
    }
   ],
   "source": [
    "qs = cirq.LineQubit.range(L)\n",
    "kvals, ngroups, rhats = groups_rhat_vs_k(qs, ham, verbose=True)"
   ]
  },
  {
   "cell_type": "code",
   "execution_count": 60,
   "metadata": {},
   "outputs": [
    {
     "name": "stderr",
     "output_type": "stream",
     "text": [
      "<>:1: SyntaxWarning: invalid escape sequence '\\h'\n",
      "<>:1: SyntaxWarning: invalid escape sequence '\\h'\n",
      "/var/folders/rv/3v7hvpgn6ks14zr4w90jz4zc0000gn/T/ipykernel_7693/3865831981.py:1: SyntaxWarning: invalid escape sequence '\\h'\n",
      "  plt.plot(kvals, rhats, label=\"$\\hat{R}$\")\n"
     ]
    },
    {
     "data": {
      "image/png": "[encoded data removed]",
      "text/plain": [
       "<Figure size 640x480 with 1 Axes>"
      ]
     },
     "metadata": {},
     "output_type": "display_data"
    }
   ],
   "source": [
    "plt.plot(kvals, rhats, label=\"$\\hat{R}$\")\n",
    "plt.plot(kvals, ngroups, label=\"# groups\")\n",
    "\n",
    "plt.xlabel(\"$k$\")\n",
    "plt.legend();"
   ]
  },
  {
   "cell_type": "code",
   "execution_count": null,
   "metadata": {},
   "outputs": [],
   "source": []
  }
 ],
 "metadata": {
  "kernelspec": {
   "display_name": "kqwc",
   "language": "python",
   "name": "python3"
  },
  "language_info": {
   "codemirror_mode": {
    "name": "ipython",
    "version": 3
   },
   "file_extension": ".py",
   "mimetype": "text/x-python",
   "name": "python",
   "nbconvert_exporter": "python",
   "pygments_lexer": "ipython3",
   "version": "3.12.8"
  }
 },
 "nbformat": 4,
 "nbformat_minor": 2
}
